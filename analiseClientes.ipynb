{
 "cells": [
  {
   "cell_type": "markdown",
   "metadata": {},
   "source": [
    "# ***Análise de dados com Python e Pandas*** - *Vinicius Garcia*"
   ]
  },
  {
   "cell_type": "markdown",
   "metadata": {},
   "source": [
    "### Neste projeto, trouxe a análise do cadastro de clientes da empresa e o relatório, que fiz recentemente para o diretor, na ocasião executei as tarefas todas no MS Excel e dessa vez, vou aplicar o conhecimento adquirido em Python e Pandas nos treinamentos da DIO."
   ]
  },
  {
   "cell_type": "code",
   "execution_count": 1,
   "metadata": {},
   "outputs": [],
   "source": [
    "#Após a substituição dos dados reais, vou importae as bibliotecas e mudar o estilo do marplotlib\n",
    "import pandas as pd\n",
    "import numpy as np\n",
    "import matplotlib.pyplot as plt\n",
    "plt.style.use(\"seaborn\")"
   ]
  },
  {
   "cell_type": "code",
   "execution_count": 2,
   "metadata": {},
   "outputs": [],
   "source": [
    "#gerar números aleatórios para substituir a coluna de CNPJ e letras aleatórias para substituir o campo Razão Social, pensando na proteção dos dados.\n",
    "import random, string, xlwt\n",
    "from tempfile import TemporaryFile\n",
    "\n",
    "listaCNPJ = []\n",
    "listaRazaoSocial = []\n",
    "letras = string.ascii_uppercase + ' '\n",
    "\n",
    "for num in range(5027):\n",
    "    rnd = random.SystemRandom()\n",
    "    listaCNPJ.append(''.join(rnd.choice(string.digits) for i in range(14)))\n",
    "    listaRazaoSocial.append(''.join(rnd.choice(letras) for i in range(20)))\n",
    "\n",
    "book = xlwt.Workbook()\n",
    "sheet1 = book.add_sheet('CNPJ')\n",
    "for i,e in enumerate(listaCNPJ):\n",
    "    sheet1.write(i,0,e)\n",
    "\n",
    "sheet2 = book.add_sheet('Razao_Social')\n",
    "for i,e in enumerate(listaRazaoSocial):\n",
    "    sheet2.write(i,1,e)\n",
    "\n",
    "name = \"trocaDados.xls\"\n",
    "book.save(name)\n",
    "book.save(TemporaryFile())\n"
   ]
  },
  {
   "cell_type": "code",
   "execution_count": 3,
   "metadata": {},
   "outputs": [],
   "source": [
    "#importar o cadastro de Clientes para o dfclientes\n",
    "dfclientes = pd.read_excel(\"clientes.xlsx\")"
   ]
  },
  {
   "cell_type": "code",
   "execution_count": 5,
   "metadata": {},
   "outputs": [],
   "source": [
    "#importar o a data dos úmltimos pedidos por cliente em dfpedidos\n",
    "dfpedidos = pd.read_excel(\"pedidos.xlsx\")"
   ]
  },
  {
   "cell_type": "code",
   "execution_count": 6,
   "metadata": {},
   "outputs": [
    {
     "data": {
      "text/html": [
       "<div>\n",
       "<style scoped>\n",
       "    .dataframe tbody tr th:only-of-type {\n",
       "        vertical-align: middle;\n",
       "    }\n",
       "\n",
       "    .dataframe tbody tr th {\n",
       "        vertical-align: top;\n",
       "    }\n",
       "\n",
       "    .dataframe thead th {\n",
       "        text-align: right;\n",
       "    }\n",
       "</style>\n",
       "<table border=\"1\" class=\"dataframe\">\n",
       "  <thead>\n",
       "    <tr style=\"text-align: right;\">\n",
       "      <th></th>\n",
       "      <th>IDClienteERP</th>\n",
       "      <th>CNPJ</th>\n",
       "      <th>Razao</th>\n",
       "      <th>UF</th>\n",
       "      <th>Vendedor</th>\n",
       "    </tr>\n",
       "  </thead>\n",
       "  <tbody>\n",
       "    <tr>\n",
       "      <th>0</th>\n",
       "      <td>4878749</td>\n",
       "      <td>27143530107091</td>\n",
       "      <td>SUQDZO BYIEICISJPQES</td>\n",
       "      <td>ES</td>\n",
       "      <td>Vendedor1</td>\n",
       "    </tr>\n",
       "    <tr>\n",
       "      <th>1</th>\n",
       "      <td>4878752</td>\n",
       "      <td>90005866086857</td>\n",
       "      <td>LCSNMZSBHYLYQTCALLCD</td>\n",
       "      <td>SP</td>\n",
       "      <td>Vendedor1</td>\n",
       "    </tr>\n",
       "    <tr>\n",
       "      <th>2</th>\n",
       "      <td>4880249</td>\n",
       "      <td>226698437158</td>\n",
       "      <td>USWEGSSAKVLOJQXNRDXW</td>\n",
       "      <td>BA</td>\n",
       "      <td>Vendedor1</td>\n",
       "    </tr>\n",
       "    <tr>\n",
       "      <th>3</th>\n",
       "      <td>4880252</td>\n",
       "      <td>21804167262495</td>\n",
       "      <td>C FWLIRDTZDITYEEGPDJ</td>\n",
       "      <td>PR</td>\n",
       "      <td>Vendedor1</td>\n",
       "    </tr>\n",
       "    <tr>\n",
       "      <th>4</th>\n",
       "      <td>4880257</td>\n",
       "      <td>6540162031292</td>\n",
       "      <td>ZSDFSUFHUHORSBUMBCGY</td>\n",
       "      <td>RN</td>\n",
       "      <td>Vendedor1</td>\n",
       "    </tr>\n",
       "  </tbody>\n",
       "</table>\n",
       "</div>"
      ],
      "text/plain": [
       "   IDClienteERP            CNPJ                 Razao  UF   Vendedor\n",
       "0       4878749  27143530107091  SUQDZO BYIEICISJPQES  ES  Vendedor1\n",
       "1       4878752  90005866086857  LCSNMZSBHYLYQTCALLCD  SP  Vendedor1\n",
       "2       4880249    226698437158  USWEGSSAKVLOJQXNRDXW  BA  Vendedor1\n",
       "3       4880252  21804167262495  C FWLIRDTZDITYEEGPDJ  PR  Vendedor1\n",
       "4       4880257   6540162031292  ZSDFSUFHUHORSBUMBCGY  RN  Vendedor1"
      ]
     },
     "execution_count": 6,
     "metadata": {},
     "output_type": "execute_result"
    }
   ],
   "source": [
    "#Visualizando as 5 primeiras linhas dos clientes\n",
    "dfclientes.head()"
   ]
  },
  {
   "cell_type": "code",
   "execution_count": 7,
   "metadata": {},
   "outputs": [
    {
     "data": {
      "text/html": [
       "<div>\n",
       "<style scoped>\n",
       "    .dataframe tbody tr th:only-of-type {\n",
       "        vertical-align: middle;\n",
       "    }\n",
       "\n",
       "    .dataframe tbody tr th {\n",
       "        vertical-align: top;\n",
       "    }\n",
       "\n",
       "    .dataframe thead th {\n",
       "        text-align: right;\n",
       "    }\n",
       "</style>\n",
       "<table border=\"1\" class=\"dataframe\">\n",
       "  <thead>\n",
       "    <tr style=\"text-align: right;\">\n",
       "      <th></th>\n",
       "      <th>IDClienteERP</th>\n",
       "      <th>dtEntregaUltimoPedido</th>\n",
       "    </tr>\n",
       "  </thead>\n",
       "  <tbody>\n",
       "    <tr>\n",
       "      <th>0</th>\n",
       "      <td>4881483</td>\n",
       "      <td>2022-07-06</td>\n",
       "    </tr>\n",
       "    <tr>\n",
       "      <th>1</th>\n",
       "      <td>4885244</td>\n",
       "      <td>2022-06-15</td>\n",
       "    </tr>\n",
       "    <tr>\n",
       "      <th>2</th>\n",
       "      <td>4885139</td>\n",
       "      <td>2022-05-05</td>\n",
       "    </tr>\n",
       "    <tr>\n",
       "      <th>3</th>\n",
       "      <td>4880501</td>\n",
       "      <td>2022-04-11</td>\n",
       "    </tr>\n",
       "    <tr>\n",
       "      <th>4</th>\n",
       "      <td>5801737</td>\n",
       "      <td>2022-02-25</td>\n",
       "    </tr>\n",
       "  </tbody>\n",
       "</table>\n",
       "</div>"
      ],
      "text/plain": [
       "   IDClienteERP dtEntregaUltimoPedido\n",
       "0       4881483            2022-07-06\n",
       "1       4885244            2022-06-15\n",
       "2       4885139            2022-05-05\n",
       "3       4880501            2022-04-11\n",
       "4       5801737            2022-02-25"
      ]
     },
     "execution_count": 7,
     "metadata": {},
     "output_type": "execute_result"
    }
   ],
   "source": [
    "#Visualizando as 5 primeiras linhas dos pedidos\n",
    "dfpedidos.head()"
   ]
  },
  {
   "cell_type": "markdown",
   "metadata": {},
   "source": [
    "### Neste relatório solicitado, o objeto é avaliar como está a carteira de clientes após a pandemia do COVID-19, a empresa perdeu alguns vendedores, sendo necessário avaliar quantos clientes estão *sem vendedor* e dos clientes com vendedor, quantos estão *ativos* (com pedidos nos últimos 6 meses), quantos estão em *atenção* (sem pedido nos últimos 6 meses) e quantos estão *inativos* (sem pedido) "
   ]
  },
  {
   "cell_type": "code",
   "execution_count": 8,
   "metadata": {},
   "outputs": [
    {
     "data": {
      "text/plain": [
       "(5027, 5)"
      ]
     },
     "execution_count": 8,
     "metadata": {},
     "output_type": "execute_result"
    }
   ],
   "source": [
    "#Quantidade de linhas e colunas dos clientes\n",
    "dfclientes.shape"
   ]
  },
  {
   "cell_type": "code",
   "execution_count": 81,
   "metadata": {},
   "outputs": [
    {
     "data": {
      "text/plain": [
       "(855, 2)"
      ]
     },
     "execution_count": 81,
     "metadata": {},
     "output_type": "execute_result"
    }
   ],
   "source": [
    "#Quantidade de linhas e colunas dos pedidos\n",
    "dfpedidos.shape"
   ]
  },
  {
   "cell_type": "markdown",
   "metadata": {},
   "source": [
    "Com o shape já é possível avaliar que a quantidade de clientes com pedido é muito baixa"
   ]
  },
  {
   "cell_type": "code",
   "execution_count": 82,
   "metadata": {},
   "outputs": [
    {
     "data": {
      "text/plain": [
       "IDClienteERP     int64\n",
       "CNPJ             int64\n",
       "Razao           object\n",
       "UF              object\n",
       "Vendedor        object\n",
       "dtype: object"
      ]
     },
     "execution_count": 82,
     "metadata": {},
     "output_type": "execute_result"
    }
   ],
   "source": [
    "#vamos verificar o tipo de dados de cada DataFrame para juntar os dois\n",
    "dfclientes.dtypes"
   ]
  },
  {
   "cell_type": "code",
   "execution_count": 84,
   "metadata": {},
   "outputs": [
    {
     "data": {
      "text/plain": [
       "IDClienteERP                      int64\n",
       "dtEntregaUltimoPedido    datetime64[ns]\n",
       "dtype: object"
      ]
     },
     "execution_count": 84,
     "metadata": {},
     "output_type": "execute_result"
    }
   ],
   "source": [
    "dfpedidos.dtypes"
   ]
  },
  {
   "cell_type": "code",
   "execution_count": 85,
   "metadata": {},
   "outputs": [],
   "source": [
    "#IDCliente tem o mesmo tipo de dados nos dois DataFrame, vamos fazer o merge entre eles mantendo todos os registro dos clientes mesmo sem compra\n",
    "dfanalise = dfclientes.merge(dfpedidos, how='left')"
   ]
  },
  {
   "cell_type": "code",
   "execution_count": 86,
   "metadata": {},
   "outputs": [
    {
     "data": {
      "text/plain": [
       "(5027, 6)"
      ]
     },
     "execution_count": 86,
     "metadata": {},
     "output_type": "execute_result"
    }
   ],
   "source": [
    "#verificar se manteve a quantidade do dfclientes\n",
    "dfanalise.shape"
   ]
  },
  {
   "cell_type": "code",
   "execution_count": 87,
   "metadata": {},
   "outputs": [
    {
     "data": {
      "text/html": [
       "<div>\n",
       "<style scoped>\n",
       "    .dataframe tbody tr th:only-of-type {\n",
       "        vertical-align: middle;\n",
       "    }\n",
       "\n",
       "    .dataframe tbody tr th {\n",
       "        vertical-align: top;\n",
       "    }\n",
       "\n",
       "    .dataframe thead th {\n",
       "        text-align: right;\n",
       "    }\n",
       "</style>\n",
       "<table border=\"1\" class=\"dataframe\">\n",
       "  <thead>\n",
       "    <tr style=\"text-align: right;\">\n",
       "      <th></th>\n",
       "      <th>IDClienteERP</th>\n",
       "      <th>CNPJ</th>\n",
       "      <th>Razao</th>\n",
       "      <th>UF</th>\n",
       "      <th>Vendedor</th>\n",
       "      <th>dtEntregaUltimoPedido</th>\n",
       "    </tr>\n",
       "  </thead>\n",
       "  <tbody>\n",
       "    <tr>\n",
       "      <th>2955</th>\n",
       "      <td>4883106</td>\n",
       "      <td>69918078797304</td>\n",
       "      <td>KBGGMY AAUNFLCNEZPVT</td>\n",
       "      <td>BA</td>\n",
       "      <td>NaN</td>\n",
       "      <td>NaT</td>\n",
       "    </tr>\n",
       "    <tr>\n",
       "      <th>4675</th>\n",
       "      <td>4884111</td>\n",
       "      <td>90460068822173</td>\n",
       "      <td>ELRYKEQDOGPOOWKKL MT</td>\n",
       "      <td>CE</td>\n",
       "      <td>NaN</td>\n",
       "      <td>NaT</td>\n",
       "    </tr>\n",
       "    <tr>\n",
       "      <th>4673</th>\n",
       "      <td>4884101</td>\n",
       "      <td>88753912900776</td>\n",
       "      <td>OZRBLWOGLZBDZZWZDKNE</td>\n",
       "      <td>CE</td>\n",
       "      <td>NaN</td>\n",
       "      <td>NaT</td>\n",
       "    </tr>\n",
       "    <tr>\n",
       "      <th>3254</th>\n",
       "      <td>4884153</td>\n",
       "      <td>59149984335247</td>\n",
       "      <td>GTLSDS WGTVC F YZILF</td>\n",
       "      <td>MG</td>\n",
       "      <td>NaN</td>\n",
       "      <td>NaT</td>\n",
       "    </tr>\n",
       "    <tr>\n",
       "      <th>3183</th>\n",
       "      <td>4883908</td>\n",
       "      <td>83839072831655</td>\n",
       "      <td>YRAUO PIBJDIFHMFCFWJ</td>\n",
       "      <td>MT</td>\n",
       "      <td>NaN</td>\n",
       "      <td>NaT</td>\n",
       "    </tr>\n",
       "    <tr>\n",
       "      <th>4768</th>\n",
       "      <td>4884461</td>\n",
       "      <td>45249555442878</td>\n",
       "      <td>IRYDHOIARDBDSQSDOZFG</td>\n",
       "      <td>BA</td>\n",
       "      <td>NaN</td>\n",
       "      <td>NaT</td>\n",
       "    </tr>\n",
       "    <tr>\n",
       "      <th>1569</th>\n",
       "      <td>4883354</td>\n",
       "      <td>86468277176568</td>\n",
       "      <td>WTXFABGKMUNVQSCUVYDX</td>\n",
       "      <td>PA</td>\n",
       "      <td>Vendedor5</td>\n",
       "      <td>NaT</td>\n",
       "    </tr>\n",
       "    <tr>\n",
       "      <th>4135</th>\n",
       "      <td>4881870</td>\n",
       "      <td>35094784946985</td>\n",
       "      <td>DFZRWGJJFXEMQPGXHRRK</td>\n",
       "      <td>SP</td>\n",
       "      <td>NaN</td>\n",
       "      <td>NaT</td>\n",
       "    </tr>\n",
       "    <tr>\n",
       "      <th>503</th>\n",
       "      <td>4881336</td>\n",
       "      <td>9511156216693</td>\n",
       "      <td>QDPOOLJKEBLD SFSEVLZ</td>\n",
       "      <td>RJ</td>\n",
       "      <td>Vendedor2</td>\n",
       "      <td>NaT</td>\n",
       "    </tr>\n",
       "    <tr>\n",
       "      <th>4894</th>\n",
       "      <td>4885273</td>\n",
       "      <td>58615422532357</td>\n",
       "      <td>CSCFQTHRETLHZNUCYIFV</td>\n",
       "      <td>MG</td>\n",
       "      <td>NaN</td>\n",
       "      <td>NaT</td>\n",
       "    </tr>\n",
       "    <tr>\n",
       "      <th>2828</th>\n",
       "      <td>4882589</td>\n",
       "      <td>63321868681725</td>\n",
       "      <td>UCYAUBT KWXKIGAIOVRZ</td>\n",
       "      <td>PE</td>\n",
       "      <td>NaN</td>\n",
       "      <td>NaT</td>\n",
       "    </tr>\n",
       "    <tr>\n",
       "      <th>3233</th>\n",
       "      <td>4884056</td>\n",
       "      <td>99508420847237</td>\n",
       "      <td>DLPQH ROOPHGZMNHSSUU</td>\n",
       "      <td>RJ</td>\n",
       "      <td>NaN</td>\n",
       "      <td>NaT</td>\n",
       "    </tr>\n",
       "    <tr>\n",
       "      <th>4837</th>\n",
       "      <td>4885031</td>\n",
       "      <td>82000524069563</td>\n",
       "      <td>ZLUZHSTRTMKWPUODHBYF</td>\n",
       "      <td>SP</td>\n",
       "      <td>NaN</td>\n",
       "      <td>NaT</td>\n",
       "    </tr>\n",
       "    <tr>\n",
       "      <th>1088</th>\n",
       "      <td>4884308</td>\n",
       "      <td>59379667626601</td>\n",
       "      <td>LEIMZHE KHPFQPWXLMUY</td>\n",
       "      <td>SP</td>\n",
       "      <td>Vendedor3</td>\n",
       "      <td>NaT</td>\n",
       "    </tr>\n",
       "    <tr>\n",
       "      <th>4187</th>\n",
       "      <td>4882001</td>\n",
       "      <td>49693124724397</td>\n",
       "      <td>XMXGMOPEAP FPBVIMXQG</td>\n",
       "      <td>SP</td>\n",
       "      <td>NaN</td>\n",
       "      <td>NaT</td>\n",
       "    </tr>\n",
       "    <tr>\n",
       "      <th>2926</th>\n",
       "      <td>4882999</td>\n",
       "      <td>2948687384114</td>\n",
       "      <td>VON HANWMQFJFWMOZFJ</td>\n",
       "      <td>PI</td>\n",
       "      <td>NaN</td>\n",
       "      <td>NaT</td>\n",
       "    </tr>\n",
       "    <tr>\n",
       "      <th>2248</th>\n",
       "      <td>4880625</td>\n",
       "      <td>75413014311782</td>\n",
       "      <td>ROBQKDXPUGGYWKXWDPP</td>\n",
       "      <td>BA</td>\n",
       "      <td>NaN</td>\n",
       "      <td>NaT</td>\n",
       "    </tr>\n",
       "    <tr>\n",
       "      <th>3228</th>\n",
       "      <td>4884014</td>\n",
       "      <td>51759545546791</td>\n",
       "      <td>PGEQONDSBGFRYCKINKFK</td>\n",
       "      <td>BA</td>\n",
       "      <td>NaN</td>\n",
       "      <td>NaT</td>\n",
       "    </tr>\n",
       "    <tr>\n",
       "      <th>3939</th>\n",
       "      <td>4881121</td>\n",
       "      <td>38428155276464</td>\n",
       "      <td>PAYHEDNAQSAYWTYYLBCU</td>\n",
       "      <td>SP</td>\n",
       "      <td>NaN</td>\n",
       "      <td>NaT</td>\n",
       "    </tr>\n",
       "    <tr>\n",
       "      <th>1778</th>\n",
       "      <td>4885704</td>\n",
       "      <td>92299769105058</td>\n",
       "      <td>W LSSOCKGFWPUJKUSKWE</td>\n",
       "      <td>MA</td>\n",
       "      <td>Vendedor5</td>\n",
       "      <td>NaT</td>\n",
       "    </tr>\n",
       "  </tbody>\n",
       "</table>\n",
       "</div>"
      ],
      "text/plain": [
       "      IDClienteERP            CNPJ                 Razao  UF   Vendedor  \\\n",
       "2955       4883106  69918078797304  KBGGMY AAUNFLCNEZPVT  BA        NaN   \n",
       "4675       4884111  90460068822173  ELRYKEQDOGPOOWKKL MT  CE        NaN   \n",
       "4673       4884101  88753912900776  OZRBLWOGLZBDZZWZDKNE  CE        NaN   \n",
       "3254       4884153  59149984335247  GTLSDS WGTVC F YZILF  MG        NaN   \n",
       "3183       4883908  83839072831655  YRAUO PIBJDIFHMFCFWJ  MT        NaN   \n",
       "4768       4884461  45249555442878  IRYDHOIARDBDSQSDOZFG  BA        NaN   \n",
       "1569       4883354  86468277176568  WTXFABGKMUNVQSCUVYDX  PA  Vendedor5   \n",
       "4135       4881870  35094784946985  DFZRWGJJFXEMQPGXHRRK  SP        NaN   \n",
       "503        4881336   9511156216693  QDPOOLJKEBLD SFSEVLZ  RJ  Vendedor2   \n",
       "4894       4885273  58615422532357  CSCFQTHRETLHZNUCYIFV  MG        NaN   \n",
       "2828       4882589  63321868681725  UCYAUBT KWXKIGAIOVRZ  PE        NaN   \n",
       "3233       4884056  99508420847237  DLPQH ROOPHGZMNHSSUU  RJ        NaN   \n",
       "4837       4885031  82000524069563  ZLUZHSTRTMKWPUODHBYF  SP        NaN   \n",
       "1088       4884308  59379667626601  LEIMZHE KHPFQPWXLMUY  SP  Vendedor3   \n",
       "4187       4882001  49693124724397  XMXGMOPEAP FPBVIMXQG  SP        NaN   \n",
       "2926       4882999   2948687384114   VON HANWMQFJFWMOZFJ  PI        NaN   \n",
       "2248       4880625  75413014311782  ROBQKDXPUGGYWKXWDPP   BA        NaN   \n",
       "3228       4884014  51759545546791  PGEQONDSBGFRYCKINKFK  BA        NaN   \n",
       "3939       4881121  38428155276464  PAYHEDNAQSAYWTYYLBCU  SP        NaN   \n",
       "1778       4885704  92299769105058  W LSSOCKGFWPUJKUSKWE  MA  Vendedor5   \n",
       "\n",
       "     dtEntregaUltimoPedido  \n",
       "2955                   NaT  \n",
       "4675                   NaT  \n",
       "4673                   NaT  \n",
       "3254                   NaT  \n",
       "3183                   NaT  \n",
       "4768                   NaT  \n",
       "1569                   NaT  \n",
       "4135                   NaT  \n",
       "503                    NaT  \n",
       "4894                   NaT  \n",
       "2828                   NaT  \n",
       "3233                   NaT  \n",
       "4837                   NaT  \n",
       "1088                   NaT  \n",
       "4187                   NaT  \n",
       "2926                   NaT  \n",
       "2248                   NaT  \n",
       "3228                   NaT  \n",
       "3939                   NaT  \n",
       "1778                   NaT  "
      ]
     },
     "execution_count": 87,
     "metadata": {},
     "output_type": "execute_result"
    }
   ],
   "source": [
    "dfanalise.sample(20)"
   ]
  },
  {
   "cell_type": "code",
   "execution_count": 88,
   "metadata": {},
   "outputs": [
    {
     "data": {
      "text/plain": [
       "IDClienteERP                      int64\n",
       "CNPJ                              int64\n",
       "Razao                            object\n",
       "UF                               object\n",
       "Vendedor                         object\n",
       "dtEntregaUltimoPedido    datetime64[ns]\n",
       "dtype: object"
      ]
     },
     "execution_count": 88,
     "metadata": {},
     "output_type": "execute_result"
    }
   ],
   "source": [
    "#verificar se o campo dtEntregaUltimoPedido está como data para usar como filtro\n",
    "dfanalise.dtypes"
   ]
  },
  {
   "cell_type": "code",
   "execution_count": 89,
   "metadata": {},
   "outputs": [
    {
     "data": {
      "text/plain": [
       "IDClienteERP                0\n",
       "CNPJ                        0\n",
       "Razao                       0\n",
       "UF                          0\n",
       "Vendedor                 2958\n",
       "dtEntregaUltimoPedido    4176\n",
       "dtype: int64"
      ]
     },
     "execution_count": 89,
     "metadata": {},
     "output_type": "execute_result"
    }
   ],
   "source": [
    "#verificar total de clientes sem vendedor e total de clientes inativos\n",
    "dfanalise.isnull().sum()"
   ]
  },
  {
   "cell_type": "code",
   "execution_count": 104,
   "metadata": {},
   "outputs": [],
   "source": [
    "#levantando os totais de clientes, com e sem vendedor\n",
    "totalClientes = dfanalise[\"CNPJ\"].count()\n",
    "totalClientesComVendedor = dfanalise['Vendedor'].count()\n",
    "totalClientesSemVendedor = dfanalise['Vendedor'].isnull().sum()"
   ]
  },
  {
   "cell_type": "code",
   "execution_count": 120,
   "metadata": {},
   "outputs": [
    {
     "data": {
      "text/plain": [
       "<BarContainer object of 2 artists>"
      ]
     },
     "execution_count": 120,
     "metadata": {},
     "output_type": "execute_result"
    },
    {
     "data": {
      "image/png": "[encoded data removed]",
      "text/plain": [
       "<Figure size 576x396 with 1 Axes>"
      ]
     },
     "metadata": {},
     "output_type": "display_data"
    }
   ],
   "source": [
    "#Responder a pergunta de quantos clientes estão com vendedor e quantos estão sem vendedor\n",
    "rotulos = ['Com Vendedor', 'Sem Vendedor']\n",
    "valores = [totalClientesComVendedor, totalClientesSemVendedor]\n",
    "plt.xlabel('Status')\n",
    "plt.ylabel('Quantidade')\n",
    "plt.bar(rotulos, valores)\n"
   ]
  },
  {
   "cell_type": "code",
   "execution_count": 116,
   "metadata": {},
   "outputs": [
    {
     "data": {
      "image/png": "[encoded data removed]",
      "text/plain": [
       "<Figure size 576x396 with 1 Axes>"
      ]
     },
     "metadata": {},
     "output_type": "display_data"
    }
   ],
   "source": [
    "#analisar quantos clientes tem cada vendedor\n",
    "dfanalise[\"Vendedor\"].value_counts(ascending=True).plot.barh(title='Clientes por vendedor');"
   ]
  },
  {
   "cell_type": "code",
   "execution_count": 103,
   "metadata": {},
   "outputs": [
    {
     "name": "stdout",
     "output_type": "stream",
     "text": [
      "2069\n",
      "2958\n"
     ]
    }
   ],
   "source": [
    "#conferindo\n",
    "print(totalClientesComVendedor)\n",
    "print(totalClientesSemVendedor)"
   ]
  },
  {
   "cell_type": "code",
   "execution_count": 106,
   "metadata": {},
   "outputs": [],
   "source": [
    "#criar uma coluna de status (ativo, atenção e inativo) para gerar os gráficos\n",
    "dfanalise['status'] = np.where(dfanalise.dtEntregaUltimoPedido >= '2021/05/01', 'Ativo', np.where(dfanalise.dtEntregaUltimoPedido < '2021/05/01', 'Atenção', 'Inativo'))"
   ]
  },
  {
   "cell_type": "code",
   "execution_count": 108,
   "metadata": {},
   "outputs": [
    {
     "data": {
      "text/html": [
       "<div>\n",
       "<style scoped>\n",
       "    .dataframe tbody tr th:only-of-type {\n",
       "        vertical-align: middle;\n",
       "    }\n",
       "\n",
       "    .dataframe tbody tr th {\n",
       "        vertical-align: top;\n",
       "    }\n",
       "\n",
       "    .dataframe thead th {\n",
       "        text-align: right;\n",
       "    }\n",
       "</style>\n",
       "<table border=\"1\" class=\"dataframe\">\n",
       "  <thead>\n",
       "    <tr style=\"text-align: right;\">\n",
       "      <th></th>\n",
       "      <th>IDClienteERP</th>\n",
       "      <th>CNPJ</th>\n",
       "      <th>Razao</th>\n",
       "      <th>UF</th>\n",
       "      <th>Vendedor</th>\n",
       "      <th>dtEntregaUltimoPedido</th>\n",
       "      <th>status</th>\n",
       "    </tr>\n",
       "  </thead>\n",
       "  <tbody>\n",
       "    <tr>\n",
       "      <th>3104</th>\n",
       "      <td>4883611</td>\n",
       "      <td>57106335508624</td>\n",
       "      <td>L KQXQDXK VOTLGVLKHC</td>\n",
       "      <td>MA</td>\n",
       "      <td>NaN</td>\n",
       "      <td>NaT</td>\n",
       "      <td>Inativo</td>\n",
       "    </tr>\n",
       "    <tr>\n",
       "      <th>135</th>\n",
       "      <td>4883551</td>\n",
       "      <td>60127592490499</td>\n",
       "      <td>R JB XCZQMOPFWMELUKY</td>\n",
       "      <td>SP</td>\n",
       "      <td>Vendedor1</td>\n",
       "      <td>2021-10-17</td>\n",
       "      <td>Ativo</td>\n",
       "    </tr>\n",
       "    <tr>\n",
       "      <th>104</th>\n",
       "      <td>4882340</td>\n",
       "      <td>42897993377876</td>\n",
       "      <td>OIBPQMNPFRKFGIRSTLHN</td>\n",
       "      <td>PE</td>\n",
       "      <td>Vendedor1</td>\n",
       "      <td>2020-10-23</td>\n",
       "      <td>Atenção</td>\n",
       "    </tr>\n",
       "    <tr>\n",
       "      <th>186</th>\n",
       "      <td>4885011</td>\n",
       "      <td>97758057721318</td>\n",
       "      <td>E XCGNGJGLLDTY  PRYW</td>\n",
       "      <td>MS</td>\n",
       "      <td>Vendedor1</td>\n",
       "      <td>2021-10-02</td>\n",
       "      <td>Ativo</td>\n",
       "    </tr>\n",
       "    <tr>\n",
       "      <th>4041</th>\n",
       "      <td>4881565</td>\n",
       "      <td>2410284041008</td>\n",
       "      <td>XJYJPTRAZEJNLJYXDBOI</td>\n",
       "      <td>SP</td>\n",
       "      <td>NaN</td>\n",
       "      <td>NaT</td>\n",
       "      <td>Inativo</td>\n",
       "    </tr>\n",
       "    <tr>\n",
       "      <th>4192</th>\n",
       "      <td>4882027</td>\n",
       "      <td>21045164482935</td>\n",
       "      <td>BLSNTP ABGWRCMOHPEWF</td>\n",
       "      <td>SP</td>\n",
       "      <td>NaN</td>\n",
       "      <td>NaT</td>\n",
       "      <td>Inativo</td>\n",
       "    </tr>\n",
       "    <tr>\n",
       "      <th>783</th>\n",
       "      <td>4881506</td>\n",
       "      <td>77305830417384</td>\n",
       "      <td>FEQMPSIBVEZHEQMQOQX</td>\n",
       "      <td>SP</td>\n",
       "      <td>Vendedor3</td>\n",
       "      <td>NaT</td>\n",
       "      <td>Inativo</td>\n",
       "    </tr>\n",
       "    <tr>\n",
       "      <th>3234</th>\n",
       "      <td>4884058</td>\n",
       "      <td>24507160699170</td>\n",
       "      <td>LETVFUAKLTLBHJAGREVB</td>\n",
       "      <td>BA</td>\n",
       "      <td>NaN</td>\n",
       "      <td>NaT</td>\n",
       "      <td>Inativo</td>\n",
       "    </tr>\n",
       "    <tr>\n",
       "      <th>3416</th>\n",
       "      <td>4885448</td>\n",
       "      <td>53722863502811</td>\n",
       "      <td>BNXTTGNDUIPTRBQAYVFL</td>\n",
       "      <td>PE</td>\n",
       "      <td>NaN</td>\n",
       "      <td>NaT</td>\n",
       "      <td>Inativo</td>\n",
       "    </tr>\n",
       "    <tr>\n",
       "      <th>4520</th>\n",
       "      <td>4883533</td>\n",
       "      <td>83637257642745</td>\n",
       "      <td>VTXMUCDLASFCQUVNUTQF</td>\n",
       "      <td>MG</td>\n",
       "      <td>NaN</td>\n",
       "      <td>NaT</td>\n",
       "      <td>Inativo</td>\n",
       "    </tr>\n",
       "  </tbody>\n",
       "</table>\n",
       "</div>"
      ],
      "text/plain": [
       "      IDClienteERP            CNPJ                 Razao  UF   Vendedor  \\\n",
       "3104       4883611  57106335508624  L KQXQDXK VOTLGVLKHC  MA        NaN   \n",
       "135        4883551  60127592490499  R JB XCZQMOPFWMELUKY  SP  Vendedor1   \n",
       "104        4882340  42897993377876  OIBPQMNPFRKFGIRSTLHN  PE  Vendedor1   \n",
       "186        4885011  97758057721318  E XCGNGJGLLDTY  PRYW  MS  Vendedor1   \n",
       "4041       4881565   2410284041008  XJYJPTRAZEJNLJYXDBOI  SP        NaN   \n",
       "4192       4882027  21045164482935  BLSNTP ABGWRCMOHPEWF  SP        NaN   \n",
       "783        4881506  77305830417384  FEQMPSIBVEZHEQMQOQX   SP  Vendedor3   \n",
       "3234       4884058  24507160699170  LETVFUAKLTLBHJAGREVB  BA        NaN   \n",
       "3416       4885448  53722863502811  BNXTTGNDUIPTRBQAYVFL  PE        NaN   \n",
       "4520       4883533  83637257642745  VTXMUCDLASFCQUVNUTQF  MG        NaN   \n",
       "\n",
       "     dtEntregaUltimoPedido   status  \n",
       "3104                   NaT  Inativo  \n",
       "135             2021-10-17    Ativo  \n",
       "104             2020-10-23  Atenção  \n",
       "186             2021-10-02    Ativo  \n",
       "4041                   NaT  Inativo  \n",
       "4192                   NaT  Inativo  \n",
       "783                    NaT  Inativo  \n",
       "3234                   NaT  Inativo  \n",
       "3416                   NaT  Inativo  \n",
       "4520                   NaT  Inativo  "
      ]
     },
     "execution_count": 108,
     "metadata": {},
     "output_type": "execute_result"
    }
   ],
   "source": [
    "dfanalise.sample(10)"
   ]
  },
  {
   "cell_type": "code",
   "execution_count": 122,
   "metadata": {},
   "outputs": [
    {
     "data": {
      "image/png": "[encoded data removed]",
      "text/plain": [
       "<Figure size 576x396 with 1 Axes>"
      ]
     },
     "metadata": {},
     "output_type": "display_data"
    }
   ],
   "source": [
    "#totais de clientes por status\n",
    "dfanalise[\"status\"].value_counts(ascending=True).plot.pie(title='Status dos Clientes');"
   ]
  },
  {
   "cell_type": "code",
   "execution_count": null,
   "metadata": {},
   "outputs": [],
   "source": [
    "#totais de clientes por status\n",
    "dfanalise[\"status\"].value_counts(ascending=True).plot.pie(title='Status dos Clientes');"
   ]
  },
  {
   "cell_type": "code",
   "execution_count": 154,
   "metadata": {},
   "outputs": [],
   "source": [
    "#criar DataFrame dropando as linhas sem valor \n",
    "dfvendedores = dfanalise\n",
    "dfvendedores.dropna(subset=[\"Vendedor\"], inplace=True)"
   ]
  },
  {
   "cell_type": "code",
   "execution_count": 155,
   "metadata": {},
   "outputs": [
    {
     "data": {
      "text/plain": [
       "IDClienteERP                0\n",
       "CNPJ                        0\n",
       "Razao                       0\n",
       "UF                          0\n",
       "Vendedor                    0\n",
       "dtEntregaUltimoPedido    1259\n",
       "status                      0\n",
       "dtype: int64"
      ]
     },
     "execution_count": 155,
     "metadata": {},
     "output_type": "execute_result"
    }
   ],
   "source": [
    "dfvendedores.isnull().sum()"
   ]
  },
  {
   "cell_type": "code",
   "execution_count": 164,
   "metadata": {},
   "outputs": [
    {
     "data": {
      "text/plain": [
       "<AxesSubplot:title={'center':'Clientes por status com vendedores'}, ylabel='Vendedor'>"
      ]
     },
     "execution_count": 164,
     "metadata": {},
     "output_type": "execute_result"
    },
    {
     "data": {
      "image/png": "[encoded data removed]",
      "text/plain": [
       "<Figure size 576x396 with 1 Axes>"
      ]
     },
     "metadata": {},
     "output_type": "display_data"
    }
   ],
   "source": [
    "#totais de clientes com vendedores por status\n",
    "dfvendedores.groupby('status')['Vendedor'].count().plot.pie(title='Clientes por status com vendedores')"
   ]
  },
  {
   "cell_type": "code",
   "execution_count": 182,
   "metadata": {},
   "outputs": [],
   "source": [
    "#Criar gráfico analisando o status dos clientes de cada vendedor\n",
    "vend1 = []\n",
    "vend2 = []\n",
    "vend3 = []\n",
    "vend4 = []\n",
    "vend5 = []\n",
    "filtroAtivo = dfvendedores.status == 'Ativo'\n",
    "filtroAtencao = dfvendedores.status == 'Atenção'\n",
    "filtroInativo = dfvendedores.status == 'Inativo'"
   ]
  },
  {
   "cell_type": "code",
   "execution_count": 183,
   "metadata": {},
   "outputs": [],
   "source": [
    "filtro = dfvendedores.Vendedor == 'Vendedor1'\n",
    "vend1.append(dfvendedores.loc[filtro & filtroAtivo]['CNPJ'].count())\n",
    "vend1.append(dfvendedores.loc[filtro & filtroAtencao]['CNPJ'].count())\n",
    "vend1.append(dfvendedores.loc[filtro & filtroInativo]['CNPJ'].count())\n",
    "filtro = dfvendedores.Vendedor == 'Vendedor2'\n",
    "vend2.append(dfvendedores.loc[filtro & filtroAtivo]['CNPJ'].count())\n",
    "vend2.append(dfvendedores.loc[filtro & filtroAtencao]['CNPJ'].count())\n",
    "vend2.append(dfvendedores.loc[filtro & filtroInativo]['CNPJ'].count())\n",
    "filtro = dfvendedores.Vendedor == 'Vendedor3'\n",
    "vend3.append(dfvendedores.loc[filtro & filtroAtivo]['CNPJ'].count())\n",
    "vend3.append(dfvendedores.loc[filtro & filtroAtencao]['CNPJ'].count())\n",
    "vend3.append(dfvendedores.loc[filtro & filtroInativo]['CNPJ'].count())\n",
    "filtro = dfvendedores.Vendedor == 'Vendedor4'\n",
    "vend4.append(dfvendedores.loc[filtro & filtroAtivo]['CNPJ'].count())\n",
    "vend4.append(dfvendedores.loc[filtro & filtroAtencao]['CNPJ'].count())\n",
    "vend4.append(dfvendedores.loc[filtro & filtroInativo]['CNPJ'].count())\n",
    "filtro = dfvendedores.Vendedor == 'Vendedor5'\n",
    "vend5.append(dfvendedores.loc[filtro & filtroAtivo]['CNPJ'].count())\n",
    "vend5.append(dfvendedores.loc[filtro & filtroAtencao]['CNPJ'].count())\n",
    "vend5.append(dfvendedores.loc[filtro & filtroInativo]['CNPJ'].count())"
   ]
  },
  {
   "cell_type": "code",
   "execution_count": 212,
   "metadata": {},
   "outputs": [
    {
     "data": {
      "image/png": "[encoded data removed]",
      "text/plain": [
       "<Figure size 720x360 with 1 Axes>"
      ]
     },
     "metadata": {},
     "output_type": "display_data"
    }
   ],
   "source": [
    "#gráfico comparando o status dos clientes em cada vendedor\n",
    "barWidth = 0.25\n",
    "plt.figure(figsize=(10,5))\n",
    "r1 = [0, 1.5, 3]\n",
    "r2 = [x + barWidth for x in r1]\n",
    "r3 = [x + barWidth for x in r2]\n",
    "r4 = [x + barWidth for x in r3]\n",
    "r5 = [x + barWidth for x in r4]\n",
    "\n",
    "plt.bar(r1, vend1, color='blue', width=barWidth, label='Vendedor 1')\n",
    "plt.bar(r2, vend2, color='red', width=barWidth, label='Vendedor 2')\n",
    "plt.bar(r3, vend3, color='green', width=barWidth, label='Vendedor 3')\n",
    "plt.bar(r4, vend4, color='orange', width=barWidth, label='Vendedor 4')\n",
    "plt.bar(r5, vend5, color='black', width=barWidth, label='Vendedor 5')\n",
    "\n",
    "plt.xlabel('Status')\n",
    "plt.xticks([0.5, 2, 3.5], ['Ativo','Atenção','Inativo'])\n",
    "plt.ylabel('Quantidade')\n",
    "\n",
    "plt.legend()\n",
    "plt.show()"
   ]
  },
  {
   "cell_type": "code",
   "execution_count": 218,
   "metadata": {},
   "outputs": [
    {
     "data": {
      "text/plain": [
       "<AxesSubplot:title={'center':'Status dos clientes - Vendedor 1'}, ylabel='Vendedor'>"
      ]
     },
     "execution_count": 218,
     "metadata": {},
     "output_type": "execute_result"
    },
    {
     "data": {
      "image/png": "[encoded data removed]",
      "text/plain": [
       "<Figure size 576x396 with 1 Axes>"
      ]
     },
     "metadata": {},
     "output_type": "display_data"
    }
   ],
   "source": [
    "#Status dos clientes por vendedor\n",
    "dfvendedor = dfvendedores.loc[dfvendedores.Vendedor == 'Vendedor1']\n",
    "dfvendedor.groupby('status')['Vendedor'].count().plot.pie(title='Status dos clientes - Vendedor 1')"
   ]
  },
  {
   "cell_type": "code",
   "execution_count": 219,
   "metadata": {},
   "outputs": [
    {
     "data": {
      "text/plain": [
       "<AxesSubplot:title={'center':'Status dos clientes - Vendedor 2'}, ylabel='Vendedor'>"
      ]
     },
     "execution_count": 219,
     "metadata": {},
     "output_type": "execute_result"
    },
    {
     "data": {
      "image/png": "[encoded data removed]",
      "text/plain": [
       "<Figure size 576x396 with 1 Axes>"
      ]
     },
     "metadata": {},
     "output_type": "display_data"
    }
   ],
   "source": [
    "#Status dos clientes por vendedor\n",
    "dfvendedor = dfvendedores.loc[dfvendedores.Vendedor == 'Vendedor2']\n",
    "dfvendedor.groupby('status')['Vendedor'].count().plot.pie(title='Status dos clientes - Vendedor 2')"
   ]
  },
  {
   "cell_type": "code",
   "execution_count": 220,
   "metadata": {},
   "outputs": [
    {
     "data": {
      "text/plain": [
       "<AxesSubplot:title={'center':'Status dos clientes - Vendedor 3'}, ylabel='Vendedor'>"
      ]
     },
     "execution_count": 220,
     "metadata": {},
     "output_type": "execute_result"
    },
    {
     "data": {
      "image/png": "[encoded data removed]",
      "text/plain": [
       "<Figure size 576x396 with 1 Axes>"
      ]
     },
     "metadata": {},
     "output_type": "display_data"
    }
   ],
   "source": [
    "#Status dos clientes por vendedor\n",
    "dfvendedor = dfvendedores.loc[dfvendedores.Vendedor == 'Vendedor3']\n",
    "dfvendedor.groupby('status')['Vendedor'].count().plot.pie(title='Status dos clientes - Vendedor 3')"
   ]
  },
  {
   "cell_type": "code",
   "execution_count": 221,
   "metadata": {},
   "outputs": [
    {
     "data": {
      "text/plain": [
       "<AxesSubplot:title={'center':'Status dos clientes - Vendedor 4'}, ylabel='Vendedor'>"
      ]
     },
     "execution_count": 221,
     "metadata": {},
     "output_type": "execute_result"
    },
    {
     "data": {
      "image/png": "[encoded data removed]",
      "text/plain": [
       "<Figure size 576x396 with 1 Axes>"
      ]
     },
     "metadata": {},
     "output_type": "display_data"
    }
   ],
   "source": [
    "#Status dos clientes por vendedor\n",
    "dfvendedor = dfvendedores.loc[dfvendedores.Vendedor == 'Vendedor4']\n",
    "dfvendedor.groupby('status')['Vendedor'].count().plot.pie(title='Status dos clientes - Vendedor 4')"
   ]
  },
  {
   "cell_type": "code",
   "execution_count": 222,
   "metadata": {},
   "outputs": [
    {
     "data": {
      "text/plain": [
       "<AxesSubplot:title={'center':'Status dos clientes - Vendedor 5'}, ylabel='Vendedor'>"
      ]
     },
     "execution_count": 222,
     "metadata": {},
     "output_type": "execute_result"
    },
    {
     "data": {
      "image/png": "[encoded data removed]",
      "text/plain": [
       "<Figure size 576x396 with 1 Axes>"
      ]
     },
     "metadata": {},
     "output_type": "display_data"
    }
   ],
   "source": [
    "#Status dos clientes por vendedor\n",
    "dfvendedor = dfvendedores.loc[dfvendedores.Vendedor == 'Vendedor5']\n",
    "dfvendedor.groupby('status')['Vendedor'].count().plot.pie(title='Status dos clientes - Vendedor 5')"
   ]
  }
 ],
 "metadata": {
  "interpreter": {
   "hash": "a4b78775d1ea5e3b11ce6b013c0eadb1a82037983d9d5a640e876a47d8414a53"
  },
  "kernelspec": {
   "display_name": "Python 3.9.7 64-bit (windows store)",
   "language": "python",
   "name": "python3"
  },
  "language_info": {
   "codemirror_mode": {
    "name": "ipython",
    "version": 3
   },
   "file_extension": ".py",
   "mimetype": "text/x-python",
   "name": "python",
   "nbconvert_exporter": "python",
   "pygments_lexer": "ipython3",
   "version": "3.9.7"
  },
  "orig_nbformat": 4
 },
 "nbformat": 4,
 "nbformat_minor": 2
}
